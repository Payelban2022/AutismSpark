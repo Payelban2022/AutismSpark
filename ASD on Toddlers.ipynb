{
 "cells": [
  {
   "cell_type": "code",
   "execution_count": 80,
   "id": "aaf815a5",
   "metadata": {},
   "outputs": [
    {
     "name": "stdout",
     "output_type": "stream",
     "text": [
      "Requirement already satisfied: pyspark in /opt/homebrew/Cellar/jupyterlab/3.4.3/libexec/lib/python3.10/site-packages (3.3.0)\n",
      "Requirement already satisfied: py4j==0.10.9.5 in /opt/homebrew/Cellar/jupyterlab/3.4.3/libexec/lib/python3.10/site-packages (from pyspark) (0.10.9.5)\n",
      "\n",
      "\u001b[1m[\u001b[0m\u001b[34;49mnotice\u001b[0m\u001b[1;39;49m]\u001b[0m\u001b[39;49m A new release of pip available: \u001b[0m\u001b[31;49m22.2.1\u001b[0m\u001b[39;49m -> \u001b[0m\u001b[32;49m22.2.2\u001b[0m\n",
      "\u001b[1m[\u001b[0m\u001b[34;49mnotice\u001b[0m\u001b[1;39;49m]\u001b[0m\u001b[39;49m To update, run: \u001b[0m\u001b[32;49m/opt/homebrew/Cellar/jupyterlab/3.4.3/libexec/bin/python3.10 -m pip install --upgrade pip\u001b[0m\n",
      "Note: you may need to restart the kernel to use updated packages.\n"
     ]
    }
   ],
   "source": [
    "pip install pyspark"
   ]
  },
  {
   "cell_type": "code",
   "execution_count": null,
   "id": "9838cbd9",
   "metadata": {},
   "outputs": [],
   "source": []
  },
  {
   "cell_type": "code",
   "execution_count": 81,
   "id": "0f2024f0",
   "metadata": {},
   "outputs": [],
   "source": [
    "import pyspark"
   ]
  },
  {
   "cell_type": "code",
   "execution_count": 82,
   "id": "2d7fd136",
   "metadata": {},
   "outputs": [],
   "source": [
    "import pandas as pd"
   ]
  },
  {
   "cell_type": "code",
   "execution_count": 83,
   "id": "6edbd1b5",
   "metadata": {
    "scrolled": true
   },
   "outputs": [
    {
     "data": {
      "text/html": [
       "<div>\n",
       "<style scoped>\n",
       "    .dataframe tbody tr th:only-of-type {\n",
       "        vertical-align: middle;\n",
       "    }\n",
       "\n",
       "    .dataframe tbody tr th {\n",
       "        vertical-align: top;\n",
       "    }\n",
       "\n",
       "    .dataframe thead th {\n",
       "        text-align: right;\n",
       "    }\n",
       "</style>\n",
       "<table border=\"1\" class=\"dataframe\">\n",
       "  <thead>\n",
       "    <tr style=\"text-align: right;\">\n",
       "      <th></th>\n",
       "      <th>Case_No</th>\n",
       "      <th>A1</th>\n",
       "      <th>A2</th>\n",
       "      <th>A3</th>\n",
       "      <th>A4</th>\n",
       "      <th>A5</th>\n",
       "      <th>A6</th>\n",
       "      <th>A7</th>\n",
       "      <th>A8</th>\n",
       "      <th>A9</th>\n",
       "      <th>A10</th>\n",
       "      <th>Age_Mons</th>\n",
       "      <th>Qchat-10-Score</th>\n",
       "      <th>Sex</th>\n",
       "      <th>Ethnicity</th>\n",
       "      <th>Jaundice</th>\n",
       "      <th>Family_mem_with_ASD</th>\n",
       "      <th>Who completed the test</th>\n",
       "      <th>Class/ASD Traits</th>\n",
       "    </tr>\n",
       "  </thead>\n",
       "  <tbody>\n",
       "    <tr>\n",
       "      <th>0</th>\n",
       "      <td>1</td>\n",
       "      <td>0</td>\n",
       "      <td>0</td>\n",
       "      <td>0</td>\n",
       "      <td>0</td>\n",
       "      <td>0</td>\n",
       "      <td>0</td>\n",
       "      <td>1</td>\n",
       "      <td>1</td>\n",
       "      <td>0</td>\n",
       "      <td>1</td>\n",
       "      <td>28</td>\n",
       "      <td>3</td>\n",
       "      <td>f</td>\n",
       "      <td>middle eastern</td>\n",
       "      <td>yes</td>\n",
       "      <td>no</td>\n",
       "      <td>family member</td>\n",
       "      <td>No</td>\n",
       "    </tr>\n",
       "    <tr>\n",
       "      <th>1</th>\n",
       "      <td>2</td>\n",
       "      <td>1</td>\n",
       "      <td>1</td>\n",
       "      <td>0</td>\n",
       "      <td>0</td>\n",
       "      <td>0</td>\n",
       "      <td>1</td>\n",
       "      <td>1</td>\n",
       "      <td>0</td>\n",
       "      <td>0</td>\n",
       "      <td>0</td>\n",
       "      <td>36</td>\n",
       "      <td>4</td>\n",
       "      <td>m</td>\n",
       "      <td>White European</td>\n",
       "      <td>yes</td>\n",
       "      <td>no</td>\n",
       "      <td>family member</td>\n",
       "      <td>Yes</td>\n",
       "    </tr>\n",
       "    <tr>\n",
       "      <th>2</th>\n",
       "      <td>3</td>\n",
       "      <td>1</td>\n",
       "      <td>0</td>\n",
       "      <td>0</td>\n",
       "      <td>0</td>\n",
       "      <td>0</td>\n",
       "      <td>0</td>\n",
       "      <td>1</td>\n",
       "      <td>1</td>\n",
       "      <td>0</td>\n",
       "      <td>1</td>\n",
       "      <td>36</td>\n",
       "      <td>4</td>\n",
       "      <td>m</td>\n",
       "      <td>middle eastern</td>\n",
       "      <td>yes</td>\n",
       "      <td>no</td>\n",
       "      <td>family member</td>\n",
       "      <td>Yes</td>\n",
       "    </tr>\n",
       "    <tr>\n",
       "      <th>3</th>\n",
       "      <td>4</td>\n",
       "      <td>1</td>\n",
       "      <td>1</td>\n",
       "      <td>1</td>\n",
       "      <td>1</td>\n",
       "      <td>1</td>\n",
       "      <td>1</td>\n",
       "      <td>1</td>\n",
       "      <td>1</td>\n",
       "      <td>1</td>\n",
       "      <td>1</td>\n",
       "      <td>24</td>\n",
       "      <td>10</td>\n",
       "      <td>m</td>\n",
       "      <td>Hispanic</td>\n",
       "      <td>no</td>\n",
       "      <td>no</td>\n",
       "      <td>family member</td>\n",
       "      <td>Yes</td>\n",
       "    </tr>\n",
       "    <tr>\n",
       "      <th>4</th>\n",
       "      <td>5</td>\n",
       "      <td>1</td>\n",
       "      <td>1</td>\n",
       "      <td>0</td>\n",
       "      <td>1</td>\n",
       "      <td>1</td>\n",
       "      <td>1</td>\n",
       "      <td>1</td>\n",
       "      <td>1</td>\n",
       "      <td>1</td>\n",
       "      <td>1</td>\n",
       "      <td>20</td>\n",
       "      <td>9</td>\n",
       "      <td>f</td>\n",
       "      <td>White European</td>\n",
       "      <td>no</td>\n",
       "      <td>yes</td>\n",
       "      <td>family member</td>\n",
       "      <td>Yes</td>\n",
       "    </tr>\n",
       "    <tr>\n",
       "      <th>...</th>\n",
       "      <td>...</td>\n",
       "      <td>...</td>\n",
       "      <td>...</td>\n",
       "      <td>...</td>\n",
       "      <td>...</td>\n",
       "      <td>...</td>\n",
       "      <td>...</td>\n",
       "      <td>...</td>\n",
       "      <td>...</td>\n",
       "      <td>...</td>\n",
       "      <td>...</td>\n",
       "      <td>...</td>\n",
       "      <td>...</td>\n",
       "      <td>...</td>\n",
       "      <td>...</td>\n",
       "      <td>...</td>\n",
       "      <td>...</td>\n",
       "      <td>...</td>\n",
       "      <td>...</td>\n",
       "    </tr>\n",
       "    <tr>\n",
       "      <th>1049</th>\n",
       "      <td>1050</td>\n",
       "      <td>0</td>\n",
       "      <td>0</td>\n",
       "      <td>0</td>\n",
       "      <td>0</td>\n",
       "      <td>0</td>\n",
       "      <td>0</td>\n",
       "      <td>0</td>\n",
       "      <td>0</td>\n",
       "      <td>0</td>\n",
       "      <td>1</td>\n",
       "      <td>24</td>\n",
       "      <td>1</td>\n",
       "      <td>f</td>\n",
       "      <td>White European</td>\n",
       "      <td>no</td>\n",
       "      <td>yes</td>\n",
       "      <td>family member</td>\n",
       "      <td>No</td>\n",
       "    </tr>\n",
       "    <tr>\n",
       "      <th>1050</th>\n",
       "      <td>1051</td>\n",
       "      <td>0</td>\n",
       "      <td>0</td>\n",
       "      <td>1</td>\n",
       "      <td>1</td>\n",
       "      <td>1</td>\n",
       "      <td>0</td>\n",
       "      <td>1</td>\n",
       "      <td>0</td>\n",
       "      <td>1</td>\n",
       "      <td>0</td>\n",
       "      <td>12</td>\n",
       "      <td>5</td>\n",
       "      <td>m</td>\n",
       "      <td>black</td>\n",
       "      <td>yes</td>\n",
       "      <td>no</td>\n",
       "      <td>family member</td>\n",
       "      <td>Yes</td>\n",
       "    </tr>\n",
       "    <tr>\n",
       "      <th>1051</th>\n",
       "      <td>1052</td>\n",
       "      <td>1</td>\n",
       "      <td>0</td>\n",
       "      <td>1</td>\n",
       "      <td>1</td>\n",
       "      <td>1</td>\n",
       "      <td>1</td>\n",
       "      <td>1</td>\n",
       "      <td>1</td>\n",
       "      <td>1</td>\n",
       "      <td>1</td>\n",
       "      <td>18</td>\n",
       "      <td>9</td>\n",
       "      <td>m</td>\n",
       "      <td>middle eastern</td>\n",
       "      <td>yes</td>\n",
       "      <td>no</td>\n",
       "      <td>family member</td>\n",
       "      <td>Yes</td>\n",
       "    </tr>\n",
       "    <tr>\n",
       "      <th>1052</th>\n",
       "      <td>1053</td>\n",
       "      <td>1</td>\n",
       "      <td>0</td>\n",
       "      <td>0</td>\n",
       "      <td>0</td>\n",
       "      <td>0</td>\n",
       "      <td>0</td>\n",
       "      <td>0</td>\n",
       "      <td>1</td>\n",
       "      <td>0</td>\n",
       "      <td>1</td>\n",
       "      <td>19</td>\n",
       "      <td>3</td>\n",
       "      <td>m</td>\n",
       "      <td>White European</td>\n",
       "      <td>no</td>\n",
       "      <td>yes</td>\n",
       "      <td>family member</td>\n",
       "      <td>No</td>\n",
       "    </tr>\n",
       "    <tr>\n",
       "      <th>1053</th>\n",
       "      <td>1054</td>\n",
       "      <td>1</td>\n",
       "      <td>1</td>\n",
       "      <td>0</td>\n",
       "      <td>0</td>\n",
       "      <td>1</td>\n",
       "      <td>1</td>\n",
       "      <td>0</td>\n",
       "      <td>1</td>\n",
       "      <td>1</td>\n",
       "      <td>0</td>\n",
       "      <td>24</td>\n",
       "      <td>6</td>\n",
       "      <td>m</td>\n",
       "      <td>asian</td>\n",
       "      <td>yes</td>\n",
       "      <td>yes</td>\n",
       "      <td>family member</td>\n",
       "      <td>Yes</td>\n",
       "    </tr>\n",
       "  </tbody>\n",
       "</table>\n",
       "<p>1054 rows × 19 columns</p>\n",
       "</div>"
      ],
      "text/plain": [
       "      Case_No  A1  A2  A3  A4  A5  A6  A7  A8  A9  A10  Age_Mons  \\\n",
       "0           1   0   0   0   0   0   0   1   1   0    1        28   \n",
       "1           2   1   1   0   0   0   1   1   0   0    0        36   \n",
       "2           3   1   0   0   0   0   0   1   1   0    1        36   \n",
       "3           4   1   1   1   1   1   1   1   1   1    1        24   \n",
       "4           5   1   1   0   1   1   1   1   1   1    1        20   \n",
       "...       ...  ..  ..  ..  ..  ..  ..  ..  ..  ..  ...       ...   \n",
       "1049     1050   0   0   0   0   0   0   0   0   0    1        24   \n",
       "1050     1051   0   0   1   1   1   0   1   0   1    0        12   \n",
       "1051     1052   1   0   1   1   1   1   1   1   1    1        18   \n",
       "1052     1053   1   0   0   0   0   0   0   1   0    1        19   \n",
       "1053     1054   1   1   0   0   1   1   0   1   1    0        24   \n",
       "\n",
       "      Qchat-10-Score Sex       Ethnicity Jaundice Family_mem_with_ASD  \\\n",
       "0                  3   f  middle eastern      yes                  no   \n",
       "1                  4   m  White European      yes                  no   \n",
       "2                  4   m  middle eastern      yes                  no   \n",
       "3                 10   m        Hispanic       no                  no   \n",
       "4                  9   f  White European       no                 yes   \n",
       "...              ...  ..             ...      ...                 ...   \n",
       "1049               1   f  White European       no                 yes   \n",
       "1050               5   m           black      yes                  no   \n",
       "1051               9   m  middle eastern      yes                  no   \n",
       "1052               3   m  White European       no                 yes   \n",
       "1053               6   m           asian      yes                 yes   \n",
       "\n",
       "     Who completed the test Class/ASD Traits   \n",
       "0             family member                No  \n",
       "1             family member               Yes  \n",
       "2             family member               Yes  \n",
       "3             family member               Yes  \n",
       "4             family member               Yes  \n",
       "...                     ...               ...  \n",
       "1049          family member                No  \n",
       "1050          family member               Yes  \n",
       "1051          family member               Yes  \n",
       "1052          family member                No  \n",
       "1053          family member               Yes  \n",
       "\n",
       "[1054 rows x 19 columns]"
      ]
     },
     "execution_count": 83,
     "metadata": {},
     "output_type": "execute_result"
    }
   ],
   "source": [
    "pd.read_csv(\"data/toddlers.csv\")"
   ]
  },
  {
   "cell_type": "code",
   "execution_count": 84,
   "id": "a5d6b37a",
   "metadata": {},
   "outputs": [],
   "source": [
    "from pyspark.sql import SparkSession"
   ]
  },
  {
   "cell_type": "code",
   "execution_count": 85,
   "id": "ce76307f",
   "metadata": {},
   "outputs": [],
   "source": [
    "spark=SparkSession.builder.appName(\"Autism\").getOrCreate()"
   ]
  },
  {
   "cell_type": "code",
   "execution_count": 86,
   "id": "784d31d6",
   "metadata": {},
   "outputs": [],
   "source": [
    " def update_spark_log_level(self, log_level='info'):\n",
    "        self.spark.sparkContext.setLogLevel(log_level)\n",
    "        log4j = self.spark._jvm.org.apache.log4j\n",
    "        logger = log4j.LogManager.getLogger(\"my custom Log Level\")\n",
    "        return logger;"
   ]
  },
  {
   "cell_type": "code",
   "execution_count": 87,
   "id": "e40f1249",
   "metadata": {},
   "outputs": [
    {
     "data": {
      "text/html": [
       "\n",
       "            <div>\n",
       "                <p><b>SparkSession - in-memory</b></p>\n",
       "                \n",
       "        <div>\n",
       "            <p><b>SparkContext</b></p>\n",
       "\n",
       "            <p><a href=\"http://zipcodersmbp50:4040\">Spark UI</a></p>\n",
       "\n",
       "            <dl>\n",
       "              <dt>Version</dt>\n",
       "                <dd><code>v3.3.0</code></dd>\n",
       "              <dt>Master</dt>\n",
       "                <dd><code>local[*]</code></dd>\n",
       "              <dt>AppName</dt>\n",
       "                <dd><code>Autism</code></dd>\n",
       "            </dl>\n",
       "        </div>\n",
       "        \n",
       "            </div>\n",
       "        "
      ],
      "text/plain": [
       "<pyspark.sql.session.SparkSession at 0x137108af0>"
      ]
     },
     "execution_count": 87,
     "metadata": {},
     "output_type": "execute_result"
    }
   ],
   "source": [
    "spark"
   ]
  },
  {
   "cell_type": "code",
   "execution_count": 88,
   "id": "43700a0c",
   "metadata": {},
   "outputs": [],
   "source": [
    "# Read the dataset in pyspark\n",
    "df_pyspark = spark.read.csv(\"data/toddlers.csv\",header=True,inferSchema=True)"
   ]
  },
  {
   "cell_type": "code",
   "execution_count": 89,
   "id": "cefab56c",
   "metadata": {},
   "outputs": [
    {
     "name": "stdout",
     "output_type": "stream",
     "text": [
      "+-------+---+---+---+---+---+---+---+---+---+---+--------+--------------+---+--------------+--------+-------------------+----------------------+-----------------+\n",
      "|Case_No| A1| A2| A3| A4| A5| A6| A7| A8| A9|A10|Age_Mons|Qchat-10-Score|Sex|     Ethnicity|Jaundice|Family_mem_with_ASD|Who completed the test|Class/ASD Traits |\n",
      "+-------+---+---+---+---+---+---+---+---+---+---+--------+--------------+---+--------------+--------+-------------------+----------------------+-----------------+\n",
      "|      1|  0|  0|  0|  0|  0|  0|  1|  1|  0|  1|      28|             3|  f|middle eastern|     yes|                 no|         family member|               No|\n",
      "|      2|  1|  1|  0|  0|  0|  1|  1|  0|  0|  0|      36|             4|  m|White European|     yes|                 no|         family member|              Yes|\n",
      "|      3|  1|  0|  0|  0|  0|  0|  1|  1|  0|  1|      36|             4|  m|middle eastern|     yes|                 no|         family member|              Yes|\n",
      "|      4|  1|  1|  1|  1|  1|  1|  1|  1|  1|  1|      24|            10|  m|      Hispanic|      no|                 no|         family member|              Yes|\n",
      "|      5|  1|  1|  0|  1|  1|  1|  1|  1|  1|  1|      20|             9|  f|White European|      no|                yes|         family member|              Yes|\n",
      "|      6|  1|  1|  0|  0|  1|  1|  1|  1|  1|  1|      21|             8|  m|         black|      no|                 no|         family member|              Yes|\n",
      "|      7|  1|  0|  0|  1|  1|  1|  0|  0|  1|  0|      33|             5|  m|         asian|     yes|                 no|         family member|              Yes|\n",
      "|      8|  0|  1|  0|  0|  1|  0|  1|  1|  1|  1|      33|             6|  m|         asian|     yes|                 no|         family member|              Yes|\n",
      "|      9|  0|  0|  0|  0|  0|  0|  1|  0|  0|  1|      36|             2|  m|         asian|      no|                 no|         family member|               No|\n",
      "|     10|  1|  1|  1|  0|  1|  1|  0|  1|  1|  1|      22|             8|  m|   south asian|      no|                 no|  Health Care Profe...|              Yes|\n",
      "|     11|  1|  0|  0|  1|  0|  1|  1|  0|  1|  1|      36|             6|  m|      Hispanic|     yes|                yes|         family member|              Yes|\n",
      "|     12|  1|  1|  1|  1|  0|  1|  1|  1|  0|  1|      17|             8|  m|middle eastern|     yes|                 no|         family member|              Yes|\n",
      "|     13|  0|  0|  0|  0|  0|  0|  0|  0|  0|  0|      25|             0|  f|middle eastern|     yes|                 no|         family member|               No|\n",
      "|     14|  1|  1|  1|  1|  0|  0|  1|  0|  1|  1|      15|             7|  f|middle eastern|     yes|                 no|         family member|              Yes|\n",
      "|     15|  0|  0|  0|  0|  0|  0|  0|  0|  0|  0|      18|             0|  m|middle eastern|      no|                 no|         family member|               No|\n",
      "|     16|  1|  1|  1|  0|  1|  0|  1|  1|  0|  1|      12|             7|  m|         black|      no|                 no|         family member|              Yes|\n",
      "|     17|  0|  0|  0|  0|  0|  0|  0|  0|  0|  0|      36|             0|  m|middle eastern|      no|                yes|         family member|               No|\n",
      "|     18|  1|  1|  1|  0|  1|  1|  1|  1|  0|  1|      12|             8|  f|middle eastern|     yes|                 no|         family member|              Yes|\n",
      "|     19|  1|  0|  0|  0|  1|  0|  0|  0|  0|  1|      29|             3|  f|middle eastern|      no|                 no|         family member|               No|\n",
      "|     20|  1|  1|  1|  0|  1|  0|  1|  1|  0|  1|      12|             7|  f|         black|      no|                 no|         family member|              Yes|\n",
      "+-------+---+---+---+---+---+---+---+---+---+---+--------+--------------+---+--------------+--------+-------------------+----------------------+-----------------+\n",
      "only showing top 20 rows\n",
      "\n"
     ]
    }
   ],
   "source": [
    "df_pyspark.show()"
   ]
  },
  {
   "cell_type": "code",
   "execution_count": 90,
   "id": "28779250",
   "metadata": {},
   "outputs": [
    {
     "name": "stdout",
     "output_type": "stream",
     "text": [
      "root\n",
      " |-- Case_No: integer (nullable = true)\n",
      " |-- A1: integer (nullable = true)\n",
      " |-- A2: integer (nullable = true)\n",
      " |-- A3: integer (nullable = true)\n",
      " |-- A4: integer (nullable = true)\n",
      " |-- A5: integer (nullable = true)\n",
      " |-- A6: integer (nullable = true)\n",
      " |-- A7: integer (nullable = true)\n",
      " |-- A8: integer (nullable = true)\n",
      " |-- A9: integer (nullable = true)\n",
      " |-- A10: integer (nullable = true)\n",
      " |-- Age_Mons: integer (nullable = true)\n",
      " |-- Qchat-10-Score: integer (nullable = true)\n",
      " |-- Sex: string (nullable = true)\n",
      " |-- Ethnicity: string (nullable = true)\n",
      " |-- Jaundice: string (nullable = true)\n",
      " |-- Family_mem_with_ASD: string (nullable = true)\n",
      " |-- Who completed the test: string (nullable = true)\n",
      " |-- Class/ASD Traits : string (nullable = true)\n",
      "\n"
     ]
    }
   ],
   "source": [
    "df_pyspark.printSchema()"
   ]
  },
  {
   "cell_type": "code",
   "execution_count": 91,
   "id": "27209d20",
   "metadata": {},
   "outputs": [
    {
     "data": {
      "text/plain": [
       "pyspark.sql.dataframe.DataFrame"
      ]
     },
     "execution_count": 91,
     "metadata": {},
     "output_type": "execute_result"
    }
   ],
   "source": [
    "type(df_pyspark)"
   ]
  },
  {
   "cell_type": "code",
   "execution_count": 92,
   "id": "d236c2f0",
   "metadata": {},
   "outputs": [],
   "source": [
    "from pyspark.sql.types import *"
   ]
  },
  {
   "cell_type": "code",
   "execution_count": 93,
   "id": "391da738",
   "metadata": {},
   "outputs": [],
   "source": [
    "from pyspark.sql.functions import col"
   ]
  },
  {
   "cell_type": "code",
   "execution_count": 94,
   "id": "e0d26119",
   "metadata": {},
   "outputs": [],
   "source": [
    "autism_schema = StructType([StructField('Case_No',IntegerType(),True),\n",
    "                          StructField('A1',IntegerType(),True),\n",
    "                          StructField('A2',IntegerType(),True),\n",
    "                          StructField('A3',IntegerType(),True),\n",
    "                          StructField('A4',IntegerType(),True),\n",
    "                          StructField('A5',IntegerType(),True),\n",
    "                          StructField('A6',IntegerType(),True),\n",
    "                          StructField('A7',IntegerType(),True),\n",
    "                          StructField('A8',IntegerType(),True),\n",
    "                          StructField('A9',IntegerType(),True),\n",
    "                          StructField('A10',IntegerType(),True),\n",
    "                          StructField('Age_Mons',IntegerType(),True),\n",
    "                          StructField('Qchat-10-Score',IntegerType(),True),\n",
    "                          StructField(\"Sex\",StringType(),True),\n",
    "                          StructField(\"Ethnicity\",StringType(),True),\n",
    "                          StructField(\"Jaundice\",StringType(),True),\n",
    "                          StructField(\"Family_mem_with_ASD\",StringType(),True),\n",
    "                          StructField(\"Who completed the test\",StringType(),True),\n",
    "                          StructField(\"Class/ASD Traits \",StringType(),True)])"
   ]
  },
  {
   "cell_type": "code",
   "execution_count": 95,
   "id": "3cfb2f53",
   "metadata": {},
   "outputs": [],
   "source": [
    "sf_autism_file = \"data/toddlers.csv\""
   ]
  },
  {
   "cell_type": "code",
   "execution_count": 96,
   "id": "dc5b9322",
   "metadata": {},
   "outputs": [],
   "source": [
    "autism_df = spark.read.csv(sf_autism_file, header=True,schema=autism_schema)"
   ]
  },
  {
   "cell_type": "code",
   "execution_count": 97,
   "id": "3b51ea3b",
   "metadata": {},
   "outputs": [
    {
     "name": "stdout",
     "output_type": "stream",
     "text": [
      "+-------+---+---+---+---+---+---+---+---+---+---+--------+--------------+---+--------------+--------+-------------------+----------------------+-----------------+\n",
      "|Case_No|A1 |A2 |A3 |A4 |A5 |A6 |A7 |A8 |A9 |A10|Age_Mons|Qchat-10-Score|Sex|Ethnicity     |Jaundice|Family_mem_with_ASD|Who completed the test|Class/ASD Traits |\n",
      "+-------+---+---+---+---+---+---+---+---+---+---+--------+--------------+---+--------------+--------+-------------------+----------------------+-----------------+\n",
      "|1      |0  |0  |0  |0  |0  |0  |1  |1  |0  |1  |28      |3             |f  |middle eastern|yes     |no                 |family member         |No               |\n",
      "|2      |1  |1  |0  |0  |0  |1  |1  |0  |0  |0  |36      |4             |m  |White European|yes     |no                 |family member         |Yes              |\n",
      "|3      |1  |0  |0  |0  |0  |0  |1  |1  |0  |1  |36      |4             |m  |middle eastern|yes     |no                 |family member         |Yes              |\n",
      "|4      |1  |1  |1  |1  |1  |1  |1  |1  |1  |1  |24      |10            |m  |Hispanic      |no      |no                 |family member         |Yes              |\n",
      "|5      |1  |1  |0  |1  |1  |1  |1  |1  |1  |1  |20      |9             |f  |White European|no      |yes                |family member         |Yes              |\n",
      "+-------+---+---+---+---+---+---+---+---+---+---+--------+--------------+---+--------------+--------+-------------------+----------------------+-----------------+\n",
      "only showing top 5 rows\n",
      "\n"
     ]
    }
   ],
   "source": [
    "autism_df.show(5,truncate=False)"
   ]
  },
  {
   "cell_type": "code",
   "execution_count": 98,
   "id": "a94bb82a",
   "metadata": {},
   "outputs": [],
   "source": [
    "# build a dataframe with caseno, Qchatscore,Age-Moms,Class/ASD traits where Class/ASD traits =Yes)"
   ]
  },
  {
   "cell_type": "code",
   "execution_count": 99,
   "id": "871f4c7c",
   "metadata": {},
   "outputs": [],
   "source": [
    "Mom_autism_df = (autism_df\n",
    "                 .select(\"Case_No\",\"Age_Mons\",\"Qchat-10-Score\",\"Class/ASD Traits \"))"
   ]
  },
  {
   "cell_type": "code",
   "execution_count": 100,
   "id": "4bec501c",
   "metadata": {},
   "outputs": [
    {
     "name": "stdout",
     "output_type": "stream",
     "text": [
      "+-------+--------+--------------+-----------------+\n",
      "|Case_No|Age_Mons|Qchat-10-Score|Class/ASD Traits |\n",
      "+-------+--------+--------------+-----------------+\n",
      "|1      |28      |3             |No               |\n",
      "|2      |36      |4             |Yes              |\n",
      "|3      |36      |4             |Yes              |\n",
      "|4      |24      |10            |Yes              |\n",
      "|5      |20      |9             |Yes              |\n",
      "+-------+--------+--------------+-----------------+\n",
      "only showing top 5 rows\n",
      "\n"
     ]
    }
   ],
   "source": [
    "Mom_autism_df.show(5, truncate=False)"
   ]
  },
  {
   "cell_type": "code",
   "execution_count": 101,
   "id": "80ce3500",
   "metadata": {},
   "outputs": [],
   "source": [
    "Mom_autism_df = (autism_df\n",
    "                .select(\"Case_No\",\"Age_Mons\",\"Qchat-10-Score\",\"Class/ASD Traits \")\n",
    "                .where(col(\"Class/ASD Traits \") == \"Yes\"))"
   ]
  },
  {
   "cell_type": "code",
   "execution_count": 102,
   "id": "751e650d",
   "metadata": {},
   "outputs": [
    {
     "name": "stdout",
     "output_type": "stream",
     "text": [
      "+-------+--------+--------------+-----------------+\n",
      "|Case_No|Age_Mons|Qchat-10-Score|Class/ASD Traits |\n",
      "+-------+--------+--------------+-----------------+\n",
      "|      2|      36|             4|              Yes|\n",
      "|      3|      36|             4|              Yes|\n",
      "|      4|      24|            10|              Yes|\n",
      "|      5|      20|             9|              Yes|\n",
      "|      6|      21|             8|              Yes|\n",
      "|      7|      33|             5|              Yes|\n",
      "|      8|      33|             6|              Yes|\n",
      "|     10|      22|             8|              Yes|\n",
      "|     11|      36|             6|              Yes|\n",
      "|     12|      17|             8|              Yes|\n",
      "|     14|      15|             7|              Yes|\n",
      "|     16|      12|             7|              Yes|\n",
      "|     18|      12|             8|              Yes|\n",
      "|     20|      12|             7|              Yes|\n",
      "|     21|      36|             7|              Yes|\n",
      "|     22|      36|             7|              Yes|\n",
      "|     23|      36|             7|              Yes|\n",
      "|     24|      36|             7|              Yes|\n",
      "|     25|      22|             9|              Yes|\n",
      "|     27|      36|             8|              Yes|\n",
      "+-------+--------+--------------+-----------------+\n",
      "only showing top 20 rows\n",
      "\n"
     ]
    }
   ],
   "source": [
    "Mom_autism_df.show()"
   ]
  },
  {
   "cell_type": "code",
   "execution_count": 103,
   "id": "ee41713e",
   "metadata": {},
   "outputs": [],
   "source": [
    "# renaming Age_Mons to Age_Moms"
   ]
  },
  {
   "cell_type": "code",
   "execution_count": 104,
   "id": "185f87fb",
   "metadata": {},
   "outputs": [],
   "source": [
    "autism_df = autism_df.withColumnRenamed(\"Age_Mons\",\"Age_Moms\")"
   ]
  },
  {
   "cell_type": "code",
   "execution_count": 105,
   "id": "263a60ca",
   "metadata": {},
   "outputs": [
    {
     "name": "stdout",
     "output_type": "stream",
     "text": [
      "+--------+\n",
      "|Age_Moms|\n",
      "+--------+\n",
      "|      28|\n",
      "|      36|\n",
      "|      36|\n",
      "|      24|\n",
      "|      20|\n",
      "|      21|\n",
      "|      33|\n",
      "|      33|\n",
      "|      36|\n",
      "|      22|\n",
      "|      36|\n",
      "|      17|\n",
      "|      25|\n",
      "|      15|\n",
      "|      18|\n",
      "|      12|\n",
      "|      36|\n",
      "|      12|\n",
      "|      29|\n",
      "|      12|\n",
      "+--------+\n",
      "only showing top 20 rows\n",
      "\n"
     ]
    }
   ],
   "source": [
    "(autism_df\n",
    ".select(\"Age_Moms\").show())"
   ]
  },
  {
   "cell_type": "code",
   "execution_count": 106,
   "id": "6a624c9f",
   "metadata": {},
   "outputs": [],
   "source": [
    "from pyspark.sql.functions import countDistinct"
   ]
  },
  {
   "cell_type": "code",
   "execution_count": 107,
   "id": "5a675bd6",
   "metadata": {},
   "outputs": [
    {
     "name": "stdout",
     "output_type": "stream",
     "text": [
      "+------------+\n",
      "|Distinctages|\n",
      "+------------+\n",
      "|          25|\n",
      "+------------+\n",
      "\n"
     ]
    }
   ],
   "source": [
    "(autism_df\n",
    ".select(\"Age_Moms\")\n",
    ".where(col(\"Age_Moms\").isNotNull())\n",
    ".agg(countDistinct(\"Age_Moms\").alias(\"Distinctages\")).show())"
   ]
  },
  {
   "cell_type": "code",
   "execution_count": 108,
   "id": "a7e864f0",
   "metadata": {},
   "outputs": [
    {
     "name": "stdout",
     "output_type": "stream",
     "text": [
      "+--------+\n",
      "|Age_Moms|\n",
      "+--------+\n",
      "|      31|\n",
      "|      34|\n",
      "|      28|\n",
      "|      26|\n",
      "|      27|\n",
      "|      12|\n",
      "|      22|\n",
      "|      13|\n",
      "|      16|\n",
      "|      20|\n",
      "|      19|\n",
      "|      15|\n",
      "|      17|\n",
      "|      35|\n",
      "|      23|\n",
      "|      25|\n",
      "|      24|\n",
      "|      29|\n",
      "|      21|\n",
      "|      32|\n",
      "+--------+\n",
      "only showing top 20 rows\n",
      "\n"
     ]
    }
   ],
   "source": [
    "# to list the distinct ages\n",
    "(autism_df\n",
    ".select(\"Age_Moms\").where(col(\"Age_Moms\").isNotNull()).distinct().show())"
   ]
  },
  {
   "cell_type": "code",
   "execution_count": 109,
   "id": "75df81a7",
   "metadata": {},
   "outputs": [
    {
     "name": "stdout",
     "output_type": "stream",
     "text": [
      "+--------------+\n",
      "|Qchat-10-Score|\n",
      "+--------------+\n",
      "|             1|\n",
      "|             6|\n",
      "|             3|\n",
      "|             5|\n",
      "|             9|\n",
      "|             4|\n",
      "|             8|\n",
      "|             7|\n",
      "|            10|\n",
      "|             2|\n",
      "|             0|\n",
      "+--------------+\n",
      "\n"
     ]
    }
   ],
   "source": [
    "# to list the distinct Q-chat\n",
    "(autism_df\n",
    ".select(\"Qchat-10-Score\").where(col(\"Qchat-10-Score\").isNotNull()).distinct().show())"
   ]
  },
  {
   "cell_type": "code",
   "execution_count": 110,
   "id": "0a829f79",
   "metadata": {},
   "outputs": [
    {
     "name": "stdout",
     "output_type": "stream",
     "text": [
      "+--------------+-----+\n",
      "|Qchat-10-Score|count|\n",
      "+--------------+-----+\n",
      "|             7|  135|\n",
      "|             5|  120|\n",
      "|             4|  110|\n",
      "|             8|   97|\n",
      "|             6|   96|\n",
      "|             3|   96|\n",
      "|             9|   95|\n",
      "|             1|   88|\n",
      "|             2|   88|\n",
      "|            10|   75|\n",
      "|             0|   54|\n",
      "+--------------+-----+\n",
      "\n"
     ]
    }
   ],
   "source": [
    "# Count the no. of cases for each Q-Chat-Score\n",
    "(autism_df\n",
    ".select(\"Qchat-10-Score\")\n",
    ".where(col(\"Qchat-10-Score\").isNotNull())\n",
    ".groupBy(\"Qchat-10-Score\")\n",
    ".count()\n",
    ".orderBy('count', ascending=False)\n",
    ".show())"
   ]
  },
  {
   "cell_type": "code",
   "execution_count": 111,
   "id": "e49f15ce",
   "metadata": {},
   "outputs": [
    {
     "name": "stdout",
     "output_type": "stream",
     "text": [
      "+-------------------+-------------------+-------------------+\n",
      "|avg(Qchat-10-Score)|min(Qchat-10-Score)|max(Qchat-10-Score)|\n",
      "+-------------------+-------------------+-------------------+\n",
      "|  5.212523719165086|                  0|                 10|\n",
      "+-------------------+-------------------+-------------------+\n",
      "\n"
     ]
    }
   ],
   "source": [
    "# The avg,min,max score\n",
    "import pyspark.sql.functions as F\n",
    "(autism_df\n",
    ".select(F.avg(\"Qchat-10-Score\"),F.min(\"Qchat-10-Score\"),F.max(\"Qchat-10-Score\")).show())"
   ]
  },
  {
   "cell_type": "code",
   "execution_count": 112,
   "id": "9e4a244f",
   "metadata": {},
   "outputs": [
    {
     "name": "stdout",
     "output_type": "stream",
     "text": [
      "+-----------------+\n",
      "|Class/ASD Traits |\n",
      "+-----------------+\n",
      "|               No|\n",
      "|              Yes|\n",
      "+-----------------+\n",
      "\n"
     ]
    }
   ],
   "source": [
    "(autism_df\n",
    ".select(\"Class/ASD Traits \").where(col(\"Class/ASD Traits \").isNotNull()).distinct().show())"
   ]
  },
  {
   "cell_type": "code",
   "execution_count": 113,
   "id": "0a92a1c1",
   "metadata": {},
   "outputs": [
    {
     "name": "stdout",
     "output_type": "stream",
     "text": [
      "+-----------------+-----+\n",
      "|Class/ASD Traits |count|\n",
      "+-----------------+-----+\n",
      "|              Yes|  728|\n",
      "|               No|  326|\n",
      "+-----------------+-----+\n",
      "\n"
     ]
    }
   ],
   "source": [
    "# Count the no of ASD cases in our data\n",
    "(autism_df\n",
    ".select(\"Class/ASD Traits \")\n",
    ".where(col(\"Class/ASD Traits \").isNotNull())\n",
    ".groupBy(\"Class/ASD Traits \")\n",
    ".count()\n",
    ".orderBy('count', ascending=False)\n",
    ".show())"
   ]
  },
  {
   "cell_type": "code",
   "execution_count": 114,
   "id": "d9057984",
   "metadata": {},
   "outputs": [],
   "source": [
    "# the total cases = (728+326 = 1054). the percent comes to approx 69%"
   ]
  },
  {
   "cell_type": "code",
   "execution_count": 115,
   "id": "b01c6936",
   "metadata": {},
   "outputs": [
    {
     "data": {
      "text/plain": [
       "<bound method DataFrame.printSchema of DataFrame[Case_No: int, A1: int, A2: int, A3: int, A4: int, A5: int, A6: int, A7: int, A8: int, A9: int, A10: int, Age_Moms: int, Qchat-10-Score: int, Sex: string, Ethnicity: string, Jaundice: string, Family_mem_with_ASD: string, Who completed the test: string, Class/ASD Traits : string]>"
      ]
     },
     "execution_count": 115,
     "metadata": {},
     "output_type": "execute_result"
    }
   ],
   "source": [
    "autism_df.printSchema"
   ]
  },
  {
   "cell_type": "code",
   "execution_count": 116,
   "id": "b5d8c7aa",
   "metadata": {},
   "outputs": [],
   "source": [
    "# Filter out the 69% of the data\n",
    "new_autism_df = (autism_df\n",
    "                .select(\"Case_No\",\"Qchat-10-Score\",\"Age_Moms\",\"Sex\",\"Ethnicity\",\"Jaundice\",\"Family_mem_with_ASD\")\n",
    "                .where(col(\"Class/ASD Traits \") == \"Yes\"))\n"
   ]
  },
  {
   "cell_type": "code",
   "execution_count": 117,
   "id": "008b0f35",
   "metadata": {},
   "outputs": [
    {
     "name": "stdout",
     "output_type": "stream",
     "text": [
      "+-------+--------------+--------+---+--------------+--------+-------------------+\n",
      "|Case_No|Qchat-10-Score|Age_Moms|Sex|     Ethnicity|Jaundice|Family_mem_with_ASD|\n",
      "+-------+--------------+--------+---+--------------+--------+-------------------+\n",
      "|      2|             4|      36|  m|White European|     yes|                 no|\n",
      "|      3|             4|      36|  m|middle eastern|     yes|                 no|\n",
      "|      4|            10|      24|  m|      Hispanic|      no|                 no|\n",
      "|      5|             9|      20|  f|White European|      no|                yes|\n",
      "|      6|             8|      21|  m|         black|      no|                 no|\n",
      "|      7|             5|      33|  m|         asian|     yes|                 no|\n",
      "|      8|             6|      33|  m|         asian|     yes|                 no|\n",
      "|     10|             8|      22|  m|   south asian|      no|                 no|\n",
      "|     11|             6|      36|  m|      Hispanic|     yes|                yes|\n",
      "|     12|             8|      17|  m|middle eastern|     yes|                 no|\n",
      "|     14|             7|      15|  f|middle eastern|     yes|                 no|\n",
      "|     16|             7|      12|  m|         black|      no|                 no|\n",
      "|     18|             8|      12|  f|middle eastern|     yes|                 no|\n",
      "|     20|             7|      12|  f|         black|      no|                 no|\n",
      "|     21|             7|      36|  m|middle eastern|      no|                 no|\n",
      "|     22|             7|      36|  m|middle eastern|      no|                 no|\n",
      "|     23|             7|      36|  m| Native Indian|     yes|                yes|\n",
      "|     24|             7|      36|  m|middle eastern|     yes|                yes|\n",
      "|     25|             9|      22|  m|White European|      no|                 no|\n",
      "|     27|             8|      36|  m|middle eastern|      no|                 no|\n",
      "+-------+--------------+--------+---+--------------+--------+-------------------+\n",
      "only showing top 20 rows\n",
      "\n"
     ]
    }
   ],
   "source": [
    "new_autism_df.show()"
   ]
  },
  {
   "cell_type": "code",
   "execution_count": 118,
   "id": "bb5b5dda",
   "metadata": {},
   "outputs": [
    {
     "name": "stdout",
     "output_type": "stream",
     "text": [
      "+---+-----+\n",
      "|Sex|count|\n",
      "+---+-----+\n",
      "|  m|  534|\n",
      "|  f|  194|\n",
      "+---+-----+\n",
      "\n"
     ]
    }
   ],
   "source": [
    "(new_autism_df\n",
    ".select(\"Sex\")\n",
    ".where(col(\"Sex\").isNotNull())\n",
    ".groupBy(\"Sex\")\n",
    ".count()\n",
    ".orderBy('count', ascending=False)\n",
    ".show())"
   ]
  },
  {
   "cell_type": "markdown",
   "id": "d8867306",
   "metadata": {},
   "source": [
    "The male ratio is higher. "
   ]
  },
  {
   "cell_type": "code",
   "execution_count": 119,
   "id": "4130007b",
   "metadata": {},
   "outputs": [
    {
     "name": "stdout",
     "output_type": "stream",
     "text": [
      "+--------+-----+\n",
      "|Jaundice|count|\n",
      "+--------+-----+\n",
      "|      no|  513|\n",
      "|     yes|  215|\n",
      "+--------+-----+\n",
      "\n"
     ]
    }
   ],
   "source": [
    "(new_autism_df\n",
    ".select(\"Jaundice\")\n",
    ".where(col(\"Jaundice\").isNotNull())\n",
    ".groupBy(\"Jaundice\")\n",
    ".count()\n",
    ".orderBy('count', ascending=False)\n",
    ".show())"
   ]
  },
  {
   "cell_type": "code",
   "execution_count": 120,
   "id": "cbbd72f9",
   "metadata": {},
   "outputs": [
    {
     "name": "stdout",
     "output_type": "stream",
     "text": [
      "+-------------------+-----+\n",
      "|Family_mem_with_ASD|count|\n",
      "+-------------------+-----+\n",
      "|                 no|  613|\n",
      "|                yes|  115|\n",
      "+-------------------+-----+\n",
      "\n"
     ]
    }
   ],
   "source": [
    "(new_autism_df\n",
    ".select(\"Family_mem_with_ASD\")\n",
    ".where(col(\"Family_mem_with_ASD\").isNotNull())\n",
    ".groupBy(\"Family_mem_with_ASD\")\n",
    ".count()\n",
    ".orderBy('count', ascending=False)\n",
    ".show())"
   ]
  },
  {
   "cell_type": "markdown",
   "id": "78a71884",
   "metadata": {},
   "source": [
    "Jaundice while birth and Family member with ASD shows a low impact on ASD."
   ]
  },
  {
   "cell_type": "code",
   "execution_count": 121,
   "id": "90429d14",
   "metadata": {},
   "outputs": [
    {
     "name": "stdout",
     "output_type": "stream",
     "text": [
      "+--------------+\n",
      "|     Ethnicity|\n",
      "+--------------+\n",
      "|   south asian|\n",
      "| Native Indian|\n",
      "|         mixed|\n",
      "|         asian|\n",
      "|        Latino|\n",
      "|      Pacifica|\n",
      "|        Others|\n",
      "|         black|\n",
      "|middle eastern|\n",
      "|      Hispanic|\n",
      "|White European|\n",
      "+--------------+\n",
      "\n"
     ]
    }
   ],
   "source": [
    "(new_autism_df\n",
    ".select(\"Ethnicity\").where(col(\"Ethnicity\").isNotNull()).distinct().show())"
   ]
  },
  {
   "cell_type": "code",
   "execution_count": 122,
   "id": "38b28c2f",
   "metadata": {},
   "outputs": [
    {
     "name": "stdout",
     "output_type": "stream",
     "text": [
      "+--------------+-----+\n",
      "|     Ethnicity|count|\n",
      "+--------------+-----+\n",
      "|White European|  250|\n",
      "|         asian|  212|\n",
      "|middle eastern|   96|\n",
      "|         black|   39|\n",
      "|   south asian|   37|\n",
      "|      Hispanic|   30|\n",
      "|        Others|   29|\n",
      "|        Latino|   20|\n",
      "|      Pacifica|    7|\n",
      "|         mixed|    5|\n",
      "| Native Indian|    3|\n",
      "+--------------+-----+\n",
      "\n"
     ]
    }
   ],
   "source": [
    "(new_autism_df\n",
    ".select(\"Ethnicity\")\n",
    ".where(col(\"Ethnicity\").isNotNull())\n",
    ".groupBy(\"Ethnicity\")\n",
    ".count()\n",
    ".orderBy('count', ascending=False)\n",
    ".show())"
   ]
  },
  {
   "cell_type": "markdown",
   "id": "baf89217",
   "metadata": {},
   "source": [
    "The White European and the Asian have a greater tendency of having ASD"
   ]
  },
  {
   "cell_type": "code",
   "execution_count": 123,
   "id": "d4c11926",
   "metadata": {},
   "outputs": [
    {
     "name": "stdout",
     "output_type": "stream",
     "text": [
      "+--------+-----+\n",
      "|Age_Moms|count|\n",
      "+--------+-----+\n",
      "|      36|  213|\n",
      "|      24|   55|\n",
      "|      30|   48|\n",
      "|      28|   33|\n",
      "|      26|   31|\n",
      "|      12|   30|\n",
      "|      33|   25|\n",
      "|      35|   24|\n",
      "|      34|   24|\n",
      "|      23|   23|\n",
      "|      32|   22|\n",
      "|      22|   21|\n",
      "|      31|   20|\n",
      "|      29|   20|\n",
      "|      27|   17|\n",
      "|      20|   17|\n",
      "|      14|   16|\n",
      "|      15|   15|\n",
      "|      25|   15|\n",
      "|      19|   13|\n",
      "+--------+-----+\n",
      "only showing top 20 rows\n",
      "\n"
     ]
    }
   ],
   "source": [
    "(new_autism_df\n",
    ".select(\"Age_Moms\")\n",
    ".where(col(\"Age_Moms\").isNotNull())\n",
    ".groupBy(\"Age_Moms\")\n",
    ".count()\n",
    ".orderBy('count', ascending=False)\n",
    ".show())"
   ]
  },
  {
   "cell_type": "markdown",
   "id": "c13ac491",
   "metadata": {},
   "source": [
    "In case of our data that child of moms whose age are 36 has the more tend to have ASD. BUT for the ages 35,34 the percent is lower. So we cannot infer a clear picture here ."
   ]
  },
  {
   "cell_type": "code",
   "execution_count": null,
   "id": "31af5ddf",
   "metadata": {},
   "outputs": [],
   "source": []
  }
 ],
 "metadata": {
  "kernelspec": {
   "display_name": "Python 3 (ipykernel)",
   "language": "python",
   "name": "python3"
  },
  "language_info": {
   "codemirror_mode": {
    "name": "ipython",
    "version": 3
   },
   "file_extension": ".py",
   "mimetype": "text/x-python",
   "name": "python",
   "nbconvert_exporter": "python",
   "pygments_lexer": "ipython3",
   "version": "3.10.5"
  }
 },
 "nbformat": 4,
 "nbformat_minor": 5
}
